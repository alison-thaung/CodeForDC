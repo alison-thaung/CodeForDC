{
 "cells": [
  {
   "cell_type": "markdown",
   "metadata": {},
   "source": [
    "# Information"
   ]
  },
  {
   "cell_type": "code",
   "execution_count": 1,
   "metadata": {
    "collapsed": true
   },
   "outputs": [],
   "source": [
    "#title                :DC Council Calendar Web Scrape (Selenium)\n",
    "#description          :This will scrape a web page of calendar items listed in a table, place in a pandas DataFrame\n",
    "#                      and export the DataFrame to a .csv file. This code does not include contents of the calendar\n",
    "#                      event. It only includes date, time, location, and title.\n",
    "#author               :alisonthaung\n",
    "#date created         :2017-07-10\n",
    "#date last modified   :2017-07-10\n",
    "#python_version       :'3.6.1 |Anaconda 4.4.0 (x86_64)| (default, May 11 2017, 13:04:09)\n",
    "#                      [GCC 4.2.1 Compatible Apple LLVM 6.0 (clang-600.0.57)]'\n",
    "#operating system     :MacOS Sierra 10.12.5\n",
    "#=============================================================================="
   ]
  },
  {
   "cell_type": "code",
   "execution_count": 16,
   "metadata": {
    "collapsed": true
   },
   "outputs": [],
   "source": [
    "from selenium import webdriver\n",
    "from selenium.webdriver.support.ui import Select\n",
    "from selenium.webdriver.common.by import By\n",
    "from selenium.webdriver.support.ui import WebDriverWait\n",
    "from selenium.webdriver.support import expected_conditions as EC"
   ]
  },
  {
   "cell_type": "code",
   "execution_count": 17,
   "metadata": {
    "collapsed": true
   },
   "outputs": [],
   "source": [
    "url = ('http://dccouncil.us/calendar')\n",
    "browser = webdriver.Firefox()\n",
    "browser.get(url)\n",
    "\n",
    "wait = WebDriverWait(browser, 30)"
   ]
  },
  {
   "cell_type": "code",
   "execution_count": 33,
   "metadata": {
    "collapsed": true
   },
   "outputs": [],
   "source": [
    "items = browser.find_elements_by_xpath('//table//tbody//tr//td//div[contains(@class, \"event-description-dev-metabox\")]//p')\n",
    "\n",
    "date = []\n",
    "time = []\n",
    "location = []\n",
    "for i in range(len(items)):\n",
    "    if i % 3 == 0:\n",
    "        date.append(items[i].text)\n",
    "    elif i % 3 == 1:\n",
    "        time.append(items[i].text)\n",
    "    elif i % 3 == 2:\n",
    "        location.append(items[i].text)\n",
    "    \n"
   ]
  },
  {
   "cell_type": "code",
   "execution_count": 27,
   "metadata": {
    "collapsed": true
   },
   "outputs": [
    {
     "name": "stdout",
     "output_type": "stream",
     "text": [
      "Monday, 7/10/2017\n",
      "9:30am\n",
      "Room 500\n",
      "Monday, 7/10/2017\n",
      "10:30am\n",
      "Room 412\n",
      "Monday, 7/10/2017\n",
      "1:00pm\n",
      "Room 412\n",
      "Monday, 7/10/2017\n",
      "6:00pm\n",
      "Columbia Heights Education Campus Auditorium, 3101 16th Street, NW, Washington, D.C. 20010\n",
      "Tuesday, 7/11/2017\n",
      "10:00am\n",
      "Room 500\n",
      "Tuesday, 7/11/2017\n",
      "11:00am\n",
      "Room 500\n",
      "Wednesday, 7/12/2017\n",
      "9:30am\n",
      "Room 412\n",
      "Wednesday, 7/12/2017\n",
      "11:00am\n",
      "(Cancelled)\n",
      "Wednesday, 7/12/2017\n",
      "1:00pm\n",
      "Room 120\n",
      "Wednesday, 7/12/2017\n",
      "2:30pm\n",
      "Room 500\n",
      "Wednesday, 7/12/2017\n",
      "6:00pm\n",
      "University of District of Columbia Student Center; 4200 Connecticut Avenue, N.W.; Washington, DC 20008\n",
      "Thursday, 7/13/2017\n",
      "11:00am\n",
      "Room 412\n",
      "Thursday, 7/13/2017\n",
      "6:30pm\n",
      "Edward J. Pryzbyla Center, Great Room A; 620 Michigan Avenuem NE; Washington, DC 20064\n",
      "Friday, 7/14/2017\n",
      "11:00am\n",
      "Room 500\n"
     ]
    }
   ],
   "source": [
    "for item in items:\n",
    "    print(item.text)"
   ]
  },
  {
   "cell_type": "code",
   "execution_count": 35,
   "metadata": {
    "collapsed": true
   },
   "outputs": [],
   "source": [
    "content = browser.find_elements_by_xpath('//table//tbody//tr//td//div[contains(@class, \"event-description-content-dev\")]//h3//a')\n",
    "\n",
    "titles = [title.text for title in content]\n",
    "    "
   ]
  },
  {
   "cell_type": "code",
   "execution_count": 40,
   "metadata": {
    "collapsed": true
   },
   "outputs": [],
   "source": [
    "import pandas as pd"
   ]
  },
  {
   "cell_type": "code",
   "execution_count": 42,
   "metadata": {
    "collapsed": true
   },
   "outputs": [],
   "source": [
    "data = {'Date': date,\n",
    "       'Time' : time,\n",
    "       'Location': location,\n",
    "       'Titles': titles}\n",
    "\n",
    "df = pd.DataFrame(data, columns = ['Date', 'Time', 'Location', 'Titles'])"
   ]
  },
  {
   "cell_type": "code",
   "execution_count": 44,
   "metadata": {
    "collapsed": true
   },
   "outputs": [],
   "source": [
    "df.to_csv('DC Calendar.csv')"
   ]
  }
 ],
 "metadata": {
  "kernelspec": {
   "display_name": "Python 3",
   "language": "python",
   "name": "python3"
  },
  "language_info": {
   "codemirror_mode": {
    "name": "ipython",
    "version": 3
   },
   "file_extension": ".py",
   "mimetype": "text/x-python",
   "name": "python",
   "nbconvert_exporter": "python",
   "pygments_lexer": "ipython3",
   "version": "3.6.1"
  }
 },
 "nbformat": 4,
 "nbformat_minor": 2
}
